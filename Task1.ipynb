{
 "cells": [
  {
   "cell_type": "code",
   "execution_count": 57,
   "id": "4998ef4f-b28b-4d79-8a29-5bf2632ee404",
   "metadata": {},
   "outputs": [
    {
     "name": "stdout",
     "output_type": "stream",
     "text": [
      "Количество столбцов: 15\n",
      "Столбцы с пропусками:\n",
      "workclass: 1836\n",
      "occupation: 1843\n",
      "native-country: 583\n",
      "Количество уникальных значений в столбце race: 5\n",
      "Медиана столбца hours-per-week: 40.0\n",
      "Мужчин больше\n",
      "Пропуски в данных после заполнения наиболее встречаемыми значениями:\n",
      "age               0\n",
      "workclass         0\n",
      "fnlwgt            0\n",
      "education         0\n",
      "education-num     0\n",
      "marital-status    0\n",
      "occupation        0\n",
      "relationship      0\n",
      "race              0\n",
      "sex               0\n",
      "capital-gain      0\n",
      "capital-loss      0\n",
      "hours-per-week    0\n",
      "native-country    0\n",
      "income            0\n",
      "dtype: int64\n"
     ]
    }
   ],
   "source": [
    "import pandas as pd\n",
    "\n",
    "details = { 'age', 'workclass',  'fnlwgt' 'education', 'education-num', 'marital-status', 'occupation', 'relationship', 'race', 'sex',\n",
    "          'capital-gain', 'capital-loss', 'hours-per-week', 'native-country', 'income'}\n",
    "dataFrame = pd.read_csv('adult.data', header=None, names=['age', 'workclass', 'fnlwgt', 'education', 'education-num', \n",
    "                                                          'marital-status', 'occupation', 'relationship', 'race', 'sex', \n",
    "                                                          'capital-gain', 'capital-loss', 'hours-per-week', 'native-country', 'income'])\n",
    "\n",
    "col = dataFrame.shape[1]\n",
    "print(f'Количество столбцов: {col}')\n",
    "\n",
    "print ('Столбцы с пропусками:')\n",
    "col1 = [column for column in dataFrame.columns if dataFrame[column].isin([' ?']).any()]\n",
    "for column in col1:\n",
    "    count = dataFrame[column].value_counts()[' ?']\n",
    "    print(f\"{column}: {count}\")\n",
    "\n",
    "uniqueValue = dataFrame['race'].nunique()\n",
    "print(f'Количество уникальных значений в столбце race: {uniqueValue}')\n",
    "\n",
    "medianValue = dataFrame['hours-per-week'].median()\n",
    "print(f'Медиана столбца hours-per-week: {medianValue}')\n",
    "\n",
    "incomeAbove50k = dataFrame[dataFrame['income'] == ' >50K']\n",
    "mCount = incomeAbove50k['sex'].value_counts().get(' Male', 0)\n",
    "wCount = incomeAbove50k['sex'].value_counts().get(' Female', 0)\n",
    "if (mCount > wCount):\n",
    "    print('Мужчин больше')\n",
    "elif (wCount > mCount):\n",
    "    print('Женщин больше')\n",
    "else:\n",
    "    print('Женщин и мужчин одинаковое количество')\n",
    "\n",
    "for column in ['workclass', 'occupation', 'native-country']:\n",
    "    mostFrequentValue = dataFrame[column].mode()[0]\n",
    "    dataFrame[column] = dataFrame[column].replace({' ?': mostFrequentValue})\n",
    "print(\"Пропуски в данных после заполнения наиболее встречаемыми значениями:\")\n",
    "print(dataFrame.isnull().sum())\n",
    "\n",
    "#можно было еще еще использовать медиану, среднее значение, интерполяцию"
   ]
  },
  {
   "cell_type": "code",
   "execution_count": null,
   "id": "039e99bc-afc0-4047-a82e-cfbf9656f712",
   "metadata": {},
   "outputs": [],
   "source": []
  }
 ],
 "metadata": {
  "kernelspec": {
   "display_name": "Python 3 (ipykernel)",
   "language": "python",
   "name": "python3"
  },
  "language_info": {
   "codemirror_mode": {
    "name": "ipython",
    "version": 3
   },
   "file_extension": ".py",
   "mimetype": "text/x-python",
   "name": "python",
   "nbconvert_exporter": "python",
   "pygments_lexer": "ipython3",
   "version": "3.11.0"
  }
 },
 "nbformat": 4,
 "nbformat_minor": 5
}
